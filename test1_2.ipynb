{
 "cells": [
  {
   "cell_type": "code",
   "execution_count": 1,
   "id": "c1c83c93",
   "metadata": {},
   "outputs": [
    {
     "name": "stdout",
     "output_type": "stream",
     "text": [
      "tensor([1.], device='cuda:0')\n"
     ]
    }
   ],
   "source": [
    "import os\n",
    "import torch\n",
    "from torch.utils.data import Dataset, DataLoader\n",
    "import torchvision.transforms as transforms\n",
    "# from efficientnet_pytorch import EfficientNet\n",
    "a = torch.Tensor([1]).cuda()\n",
    "print(a)"
   ]
  },
  {
   "cell_type": "code",
   "execution_count": 2,
   "id": "a260d9d9",
   "metadata": {},
   "outputs": [],
   "source": [
    "import numpy as np\n",
    "import pandas as pd\n",
    "import matplotlib.pylab as plt\n",
    "plt.style.use('ggplot')\n",
    "from PIL import Image, ImageDraw\n",
    "from tqdm import tqdm"
   ]
  },
  {
   "cell_type": "code",
   "execution_count": 3,
   "id": "f58d7401",
   "metadata": {
    "scrolled": true
   },
   "outputs": [
    {
     "name": "stdout",
     "output_type": "stream",
     "text": [
      "<class 'pandas.core.frame.DataFrame'>\n",
      "Index: 400 entries, aagfhgtpmv.mp4 to eukvucdetx.mp4\n",
      "Data columns (total 3 columns):\n",
      " #   Column    Non-Null Count  Dtype \n",
      "---  ------    --------------  ----- \n",
      " 0   label     400 non-null    object\n",
      " 1   split     400 non-null    object\n",
      " 2   original  323 non-null    object\n",
      "dtypes: object(3)\n",
      "memory usage: 28.7+ KB\n"
     ]
    }
   ],
   "source": [
    "train_sample_metadata = pd.read_json('./input/train_sample_videos/metadata.json').T\n",
    "train_sample_metadata.head()\n",
    "train_sample_metadata.info()"
   ]
  },
  {
   "cell_type": "code",
   "execution_count": 4,
   "id": "fbe68880",
   "metadata": {},
   "outputs": [],
   "source": [
    "input_dir = './output/deepfake-detection-challenge/train_sample_videos/'\n",
    "real_dirs = []\n",
    "fake_dirs = []\n",
    "for i in range(len(train_sample_metadata)):\n",
    "    fn = train_sample_metadata.index[i]\n",
    "    label = train_sample_metadata.iloc[i,0]\n",
    "    fn_dir = input_dir+fn+'/'\n",
    "    if label=='REAL':\n",
    "        real_dirs.append(fn_dir)\n",
    "    else:\n",
    "        fake_dirs.append(fn_dir)"
   ]
  },
  {
   "cell_type": "code",
   "execution_count": 5,
   "id": "d47e604f",
   "metadata": {},
   "outputs": [],
   "source": [
    "class CustomDataset(Dataset):\n",
    "    def __init__(self, real_dirs, fake_dirs, transform=None):\n",
    "        self.image_list = []\n",
    "        self.label_list = []\n",
    "        self.transform = transform\n",
    "        \n",
    "        for directory in real_dirs:\n",
    "            if not os.path.exists(directory):\n",
    "                continue\n",
    "            for filename in os.listdir(directory):\n",
    "                if filename.endswith('.jpg'):\n",
    "                    self.image_list.append(os.path.join(directory, filename))\n",
    "                    self.label_list.append(0)\n",
    "                    \n",
    "        for directory in fake_dirs:\n",
    "            if not os.path.exists(directory):\n",
    "                continue\n",
    "            for filename in os.listdir(directory):\n",
    "                if filename.endswith('.jpg'):\n",
    "                    self.image_list.append(os.path.join(directory, filename))\n",
    "                    self.label_list.append(1)\n",
    "        \n",
    "    def __len__(self):\n",
    "        return len(self.image_list)\n",
    "    \n",
    "    def __getitem__(self, index):\n",
    "        image = Image.open(self.image_list[index]).convert('RGB')\n",
    "        image = image.resize((224, 224))\n",
    "        label = self.label_list[index]\n",
    "        if self.transform:\n",
    "            image = self.transform(image)\n",
    "        return image, label"
   ]
  },
  {
   "cell_type": "code",
   "execution_count": 6,
   "id": "5de8e764",
   "metadata": {},
   "outputs": [],
   "source": [
    "train_transforms = transforms.Compose([\n",
    "#     transforms.RandomHorizontalFlip(),\n",
    "#     transforms.RandomVerticalFlip(),\n",
    "#     transforms.RandomRotation(20),\n",
    "#     transforms.ColorJitter(brightness=0.2, contrast=0.2, saturation=0.2, hue=0.2),\n",
    "#     transforms.RandomResizedCrop(224),\n",
    "    transforms.ToTensor(),\n",
    "    transforms.Normalize([0.485, 0.456, 0.406], [0.229, 0.224, 0.225])\n",
    "])"
   ]
  },
  {
   "cell_type": "code",
   "execution_count": 7,
   "id": "da6a465a",
   "metadata": {},
   "outputs": [],
   "source": [
    "train_data = CustomDataset(real_dirs, fake_dirs, transform=train_transforms)\n",
    "# from sklearn.model_selection import train_test_split\n",
    "# train_data, test_data = train_test_split(train_dataset, test_size=0.2)"
   ]
  },
  {
   "cell_type": "code",
   "execution_count": 8,
   "id": "2162d565",
   "metadata": {},
   "outputs": [
    {
     "name": "stdout",
     "output_type": "stream",
     "text": [
      "<class 'pandas.core.frame.DataFrame'>\n",
      "Index: 1334 entries, owxbbpjpch.mp4 to etychryvty.mp4\n",
      "Data columns (total 3 columns):\n",
      " #   Column    Non-Null Count  Dtype \n",
      "---  ------    --------------  ----- \n",
      " 0   label     1334 non-null   object\n",
      " 1   split     1334 non-null   object\n",
      " 2   original  1248 non-null   object\n",
      "dtypes: object(3)\n",
      "memory usage: 74.0+ KB\n"
     ]
    }
   ],
   "source": [
    "test_sample_metadata = pd.read_json('./input/dfdc_train_part_0/metadata.json').T\n",
    "test_sample_metadata.head()\n",
    "test_sample_metadata.info()"
   ]
  },
  {
   "cell_type": "code",
   "execution_count": 9,
   "id": "79c6c047",
   "metadata": {},
   "outputs": [],
   "source": [
    "input_dir = './output/deepfake-detection-challenge/dfdc_train_part_0/'\n",
    "real_dirs_t = []\n",
    "fake_dirs_t = []\n",
    "for i in range(len(test_sample_metadata)):\n",
    "    fn = test_sample_metadata.index[i]\n",
    "    label = test_sample_metadata.iloc[i,0]\n",
    "    fn_dir = input_dir+fn+'/'\n",
    "    if label=='REAL':\n",
    "        real_dirs_t.append(fn_dir)\n",
    "    else:\n",
    "        fake_dirs_t.append(fn_dir)"
   ]
  },
  {
   "cell_type": "code",
   "execution_count": 10,
   "id": "5473945e",
   "metadata": {},
   "outputs": [
    {
     "name": "stdout",
     "output_type": "stream",
     "text": [
      "23179\n"
     ]
    }
   ],
   "source": [
    "test_data = CustomDataset(real_dirs_t, fake_dirs_t, transform=train_transforms)\n",
    "print(len(test_data))\n",
    "# from sklearn.model_selection import train_test_split\n",
    "# train_data, test_data = train_test_split(train_dataset, test_size=0.2)"
   ]
  },
  {
   "cell_type": "code",
   "execution_count": 11,
   "id": "12ca16fa",
   "metadata": {},
   "outputs": [],
   "source": [
    "BATCH_SIZE = 32\n",
    "train_loader = DataLoader(train_data, batch_size=BATCH_SIZE, shuffle=True)\n",
    "test_loader = DataLoader(test_data, batch_size=BATCH_SIZE, shuffle=False)"
   ]
  },
  {
   "cell_type": "code",
   "execution_count": 12,
   "id": "340faa84",
   "metadata": {},
   "outputs": [],
   "source": [
    "# model = EfficientNet.from_pretrained('efficientnet-b0')\n",
    "import torch\n",
    "import torch.nn as nn\n",
    "\n",
    "class MyModel(nn.Module):\n",
    "    def __init__(self):\n",
    "        super(MyModel, self).__init__()\n",
    "        self.conv1 = nn.Conv2d(3, 64, kernel_size=7)\n",
    "        self.pool1 = nn.MaxPool2d(kernel_size=2, stride=2)\n",
    "        self.conv2 = nn.Conv2d(64, 128, kernel_size=3)\n",
    "        self.conv3 = nn.Conv2d(128, 128, kernel_size=3)\n",
    "        self.pool2 = nn.MaxPool2d(kernel_size=2, stride=2)\n",
    "        self.flatten = nn.Flatten()\n",
    "        self.fc1 = nn.Linear(128 * 52 * 52, 128)\n",
    "        self.dropout1 = nn.Dropout(0.5)\n",
    "        self.fc2 = nn.Linear(128, 64)\n",
    "        self.dropout2 = nn.Dropout(0.5)\n",
    "        self.fc3 = nn.Linear(64, 1)\n",
    "\n",
    "    def forward(self, x):\n",
    "        x = self.conv1(x)\n",
    "        x = self.pool1(x)\n",
    "        x = self.conv2(x)\n",
    "        x = self.conv3(x)\n",
    "        x = self.pool2(x)\n",
    "        x = self.flatten(x)\n",
    "        x = self.fc1(x)\n",
    "        x = self.dropout1(x)\n",
    "        x = self.fc2(x)\n",
    "        x = self.dropout2(x)\n",
    "        x = self.fc3(x)\n",
    "        return x\n",
    "\n",
    "model = MyModel()"
   ]
  },
  {
   "cell_type": "code",
   "execution_count": 13,
   "id": "d8d0b38c",
   "metadata": {},
   "outputs": [],
   "source": [
    "def display_model(model):\n",
    "    # Check number of parameters \n",
    "    summary_dict = {}\n",
    "    num_params = 0\n",
    "    summary_str = ['='*80]\n",
    "\n",
    "    for module_name, module in model.named_children():\n",
    "        summary_count = 0\n",
    "        for name, param in module.named_parameters():\n",
    "            if(param.requires_grad):\n",
    "                summary_count += param.numel()\n",
    "                num_params += param.numel()\n",
    "        summary_dict[module_name] = [summary_count]\n",
    "        summary_str+= [f'- {module_name: <40} : {str(summary_count):^34s}']\n",
    "\n",
    "    summary_dict['total'] = [num_params]\n",
    "\n",
    "    # print summary string\n",
    "    summary_str += ['='*80]\n",
    "    summary_str += ['--' +  f'{\"Total\":<40} : {str(num_params) + \" params\":^34s}' +'--']\n",
    "    print('\\n'.join(summary_str))\n",
    "\n",
    "    # print model structure\n",
    "    print(model)"
   ]
  },
  {
   "cell_type": "code",
   "execution_count": 14,
   "id": "cf506938",
   "metadata": {},
   "outputs": [],
   "source": [
    "# model._fc = torch.nn.Linear(1280, 1)"
   ]
  },
  {
   "cell_type": "code",
   "execution_count": 15,
   "id": "efcda825",
   "metadata": {},
   "outputs": [],
   "source": [
    "# for param in model.parameters():\n",
    "#     param.requires_grad = False\n",
    "# for param in model._fc.parameters():\n",
    "#     param.requires_grad = True"
   ]
  },
  {
   "cell_type": "code",
   "execution_count": 16,
   "id": "e247dae9",
   "metadata": {},
   "outputs": [
    {
     "name": "stdout",
     "output_type": "stream",
     "text": [
      "================================================================================\n",
      "- conv1                                    :                9472               \n",
      "- pool1                                    :                 0                 \n",
      "- conv2                                    :               73856               \n",
      "- conv3                                    :               147584              \n",
      "- pool2                                    :                 0                 \n",
      "- flatten                                  :                 0                 \n",
      "- fc1                                      :              44302464             \n",
      "- dropout1                                 :                 0                 \n",
      "- fc2                                      :                8256               \n",
      "- dropout2                                 :                 0                 \n",
      "- fc3                                      :                 65                \n",
      "================================================================================\n",
      "--Total                                    :          44541697 params          --\n",
      "MyModel(\n",
      "  (conv1): Conv2d(3, 64, kernel_size=(7, 7), stride=(1, 1))\n",
      "  (pool1): MaxPool2d(kernel_size=2, stride=2, padding=0, dilation=1, ceil_mode=False)\n",
      "  (conv2): Conv2d(64, 128, kernel_size=(3, 3), stride=(1, 1))\n",
      "  (conv3): Conv2d(128, 128, kernel_size=(3, 3), stride=(1, 1))\n",
      "  (pool2): MaxPool2d(kernel_size=2, stride=2, padding=0, dilation=1, ceil_mode=False)\n",
      "  (flatten): Flatten(start_dim=1, end_dim=-1)\n",
      "  (fc1): Linear(in_features=346112, out_features=128, bias=True)\n",
      "  (dropout1): Dropout(p=0.5, inplace=False)\n",
      "  (fc2): Linear(in_features=128, out_features=64, bias=True)\n",
      "  (dropout2): Dropout(p=0.5, inplace=False)\n",
      "  (fc3): Linear(in_features=64, out_features=1, bias=True)\n",
      ")\n"
     ]
    }
   ],
   "source": [
    "display_model(model)\n",
    "# model.compile(loss=\"binary_crossentropy\", optimizer=\"nadam\",\n",
    "#               metrics=[\"accuracy\"])\n",
    "# model.summary()"
   ]
  },
  {
   "cell_type": "code",
   "execution_count": 17,
   "id": "0182c125",
   "metadata": {},
   "outputs": [],
   "source": [
    "from sklearn.metrics import accuracy_score, precision_score, recall_score, f1_score\n",
    "def train(train_loader, model, criterion, optimizer):\n",
    "    \"\"\"\n",
    "    Train network\n",
    "    :param train_loader: training dataloader\n",
    "    :param model: model to be trained\n",
    "    :param criterion: criterion used to calculate loss (should be CrossEntropyLoss from torch.nn)\n",
    "    :param optimizer: optimizer for model's params (Adams or SGD)\n",
    "    :return: mean training loss\n",
    "    \"\"\"\n",
    "    model.train()\n",
    "    loss_ = 0.0\n",
    "    losses = []\n",
    "    # TO DO: read this documentation and then uncomment the line below; https://pypi.org/project/tqdm/\n",
    "    it_train = tqdm(enumerate(train_loader), total=len(train_loader), desc=\"Training ...\", position = 0) # progress bar\n",
    "    for i, (images, labels) in it_train:\n",
    "        # TO DO: read/understand and then uncomment these lines\n",
    "        images, labels = images.to(device), labels.view(-1, 1).to(device).float()\n",
    "        optimizer.zero_grad()\n",
    "        prediction = model(images)\n",
    "        loss = criterion(prediction, labels)\n",
    "        it_train.set_description(f'loss: {loss:.3f}')\n",
    "        loss.backward()\n",
    "        optimizer.step()\n",
    "        losses.append(loss)\n",
    "\n",
    "    return torch.stack(losses).mean().item()\n",
    "\n",
    "def test(test_loader, model, criterion):\n",
    "    \"\"\"\n",
    "    Test network.\n",
    "    :param test_loader: testing dataloader\n",
    "    :param model: model to be tested\n",
    "    :param criterion: criterion used to calculate loss (should be CrossEntropyLoss from torch.nn)\n",
    "    :return: mean_accuracy: mean accuracy of predicted labels\n",
    "             test_loss: mean test loss during testing\n",
    "             precision: precision score of predicted labels\n",
    "             recall: recall score of predicted labels\n",
    "             f1: f1 score of predicted labels\n",
    "    \"\"\"\n",
    "    model.eval()\n",
    "    losses = []\n",
    "    correct = 0\n",
    "    total = 0\n",
    "    predicted_labels = []\n",
    "    true_labels = []\n",
    "    it_test = tqdm(enumerate(test_loader), total=len(test_loader), desc=\"Validating ...\", position = 0)\n",
    "    for i, (images, labels) in it_test:\n",
    "        images, labels = images.to(device), labels.view(-1, 1).to(device).float()\n",
    "        with torch.no_grad():\n",
    "            output = model(images)\n",
    "            preds = torch.round(torch.sigmoid(output)).type(torch.int)\n",
    "            loss = criterion(output, labels)\n",
    "            losses.append(loss.item())\n",
    "            predicted_labels.extend(preds.cpu().detach().numpy())\n",
    "            true_labels.extend(labels.cpu().detach().numpy())\n",
    "            correct += (preds == labels).sum().item()\n",
    "            total += len(labels)\n",
    "    mean_accuracy = correct / total\n",
    "    test_loss = np.mean(losses)\n",
    "    precision = precision_score(true_labels, predicted_labels)\n",
    "    recall = recall_score(true_labels, predicted_labels)\n",
    "    f1 = f1_score(true_labels, predicted_labels)\n",
    "    print('Mean Accuracy: {0:.4f}'.format(mean_accuracy))\n",
    "    print('Avg loss: {}'.format(test_loss))\n",
    "    print('Precision: {0:.4f}'.format(precision))\n",
    "    print('Recall: {0:.4f}'.format(recall))\n",
    "    print('F1 Score: {0:.4f}'.format(f1))\n",
    "\n",
    "    return mean_accuracy, test_loss, precision, recall, f1"
   ]
  },
  {
   "cell_type": "code",
   "execution_count": 18,
   "id": "2f479ea0",
   "metadata": {},
   "outputs": [
    {
     "name": "stdout",
     "output_type": "stream",
     "text": [
      "cuda\n"
     ]
    }
   ],
   "source": [
    "criterion = torch.nn.BCEWithLogitsLoss()\n",
    "optimizer = torch.optim.Adam(model.parameters(), lr=0.001)\n",
    "scheduler = torch.optim.lr_scheduler.StepLR(optimizer, step_size=5, gamma=0.1)\n",
    "num_epochs = 5\n",
    "device = torch.device(\"cuda\" if torch.cuda.is_available() else \"cpu\")\n",
    "model = model.to(device)\n",
    "print(device)"
   ]
  },
  {
   "cell_type": "code",
   "execution_count": 19,
   "id": "c40ee347",
   "metadata": {
    "pycharm": {
     "is_executing": true
    }
   },
   "outputs": [
    {
     "name": "stderr",
     "output_type": "stream",
     "text": [
      "\n",
      "loss: 0.446: 100%|██████████| 336/336 [00:32<00:00, 10.26it/s]\n"
     ]
    },
    {
     "name": "stdout",
     "output_type": "stream",
     "text": [
      "Loss for Training on epoch 0 is 1.5703837871551514 \n",
      "\n",
      "Evaluating Network\n"
     ]
    },
    {
     "name": "stderr",
     "output_type": "stream",
     "text": [
      "Validating ...: 100%|██████████| 336/336 [00:35<00:00,  9.46it/s]\n"
     ]
    },
    {
     "name": "stdout",
     "output_type": "stream",
     "text": [
      "Mean Accuracy: 0.8255\n",
      "Avg loss: 0.41243777907497825\n",
      "Precision: 0.8298\n",
      "Recall: 0.9826\n",
      "F1 Score: 0.8998\n",
      "Training accuracy on epoch 0 is 0.8254589507035691 \n",
      "\n"
     ]
    },
    {
     "name": "stderr",
     "output_type": "stream",
     "text": [
      "Validating ...: 100%|██████████| 725/725 [01:16<00:00,  9.51it/s]\n",
      "\n",
      "Training ...:  20%|██        | 1/5 [02:24<09:39, 144.87s/it]\u001b[A"
     ]
    },
    {
     "name": "stdout",
     "output_type": "stream",
     "text": [
      "Mean Accuracy: 0.9166\n",
      "Avg loss: 0.3531569082315626\n",
      "Precision: 0.9200\n",
      "Recall: 0.9959\n",
      "F1 Score: 0.9564\n",
      "Testing accuracy on epoch 0 is 0.9166055481254584 \n",
      "\n"
     ]
    },
    {
     "name": "stderr",
     "output_type": "stream",
     "text": [
      "loss: 0.342: 100%|██████████| 336/336 [00:33<00:00,  9.98it/s]\n"
     ]
    },
    {
     "name": "stdout",
     "output_type": "stream",
     "text": [
      "Loss for Training on epoch 1 is 0.541120707988739 \n",
      "\n",
      "Evaluating Network\n"
     ]
    },
    {
     "name": "stderr",
     "output_type": "stream",
     "text": [
      "Validating ...: 100%|██████████| 336/336 [00:36<00:00,  9.18it/s]\n"
     ]
    },
    {
     "name": "stdout",
     "output_type": "stream",
     "text": [
      "Mean Accuracy: 0.8518\n",
      "Avg loss: 0.3469792001747659\n",
      "Precision: 0.8599\n",
      "Recall: 0.9727\n",
      "F1 Score: 0.9128\n",
      "Training accuracy on epoch 1 is 0.8518311434162706 \n",
      "\n"
     ]
    },
    {
     "name": "stderr",
     "output_type": "stream",
     "text": [
      "Validating ...: 100%|██████████| 725/725 [01:18<00:00,  9.29it/s]\n",
      "\n",
      "Training ...:  40%|████      | 2/5 [04:53<07:21, 147.14s/it]\u001b[A"
     ]
    },
    {
     "name": "stdout",
     "output_type": "stream",
     "text": [
      "Mean Accuracy: 0.8800\n",
      "Avg loss: 0.399455474242568\n",
      "Precision: 0.9221\n",
      "Recall: 0.9496\n",
      "F1 Score: 0.9357\n",
      "Testing accuracy on epoch 1 is 0.8799775659001683 \n",
      "\n"
     ]
    },
    {
     "name": "stderr",
     "output_type": "stream",
     "text": [
      "loss: 0.212: 100%|██████████| 336/336 [00:33<00:00,  9.99it/s]\n",
      "\n",
      "Training ...:  60%|██████    | 3/5 [05:27<03:10, 95.33s/it] \u001b[A"
     ]
    },
    {
     "name": "stdout",
     "output_type": "stream",
     "text": [
      "Loss for Training on epoch 2 is 0.45664098858833313 \n",
      "\n"
     ]
    },
    {
     "name": "stderr",
     "output_type": "stream",
     "text": [
      "loss: 0.247: 100%|██████████| 336/336 [00:33<00:00,  9.91it/s]\n",
      "\n",
      "Training ...:  80%|████████  | 4/5 [06:01<01:11, 71.10s/it]\u001b[A"
     ]
    },
    {
     "name": "stdout",
     "output_type": "stream",
     "text": [
      "Loss for Training on epoch 3 is 0.39330193400382996 \n",
      "\n"
     ]
    },
    {
     "name": "stderr",
     "output_type": "stream",
     "text": [
      "loss: 0.044: 100%|██████████| 336/336 [00:34<00:00,  9.62it/s]\n"
     ]
    },
    {
     "name": "stdout",
     "output_type": "stream",
     "text": [
      "Loss for Training on epoch 4 is 0.3234703838825226 \n",
      "\n",
      "Evaluating Network\n"
     ]
    },
    {
     "name": "stderr",
     "output_type": "stream",
     "text": [
      "Validating ...: 100%|██████████| 336/336 [00:38<00:00,  8.72it/s]\n"
     ]
    },
    {
     "name": "stdout",
     "output_type": "stream",
     "text": [
      "Mean Accuracy: 0.9034\n",
      "Avg loss: 0.23938024152691165\n",
      "Precision: 0.9056\n",
      "Recall: 0.9811\n",
      "F1 Score: 0.9418\n",
      "Training accuracy on epoch 4 is 0.9033640853601714 \n",
      "\n"
     ]
    },
    {
     "name": "stderr",
     "output_type": "stream",
     "text": [
      "Validating ...: 100%|██████████| 725/725 [01:25<00:00,  8.51it/s]\n",
      "\n",
      "Training ...: 100%|██████████| 5/5 [08:40<00:00, 104.06s/it]\u001b[A"
     ]
    },
    {
     "name": "stdout",
     "output_type": "stream",
     "text": [
      "Mean Accuracy: 0.7947\n",
      "Avg loss: 0.4722966832641898\n",
      "Precision: 0.9183\n",
      "Recall: 0.8526\n",
      "F1 Score: 0.8842\n",
      "Testing accuracy on epoch 4 is 0.7946848440398637 \n",
      "\n"
     ]
    },
    {
     "name": "stderr",
     "output_type": "stream",
     "text": [
      "\n"
     ]
    }
   ],
   "source": [
    "train_losses = []\n",
    "train_accuracy_list = []\n",
    "test_losses = []\n",
    "test_accuracy_list = []\n",
    "test_precision_list = []\n",
    "test_recall_list = []\n",
    "test_f1_list = []\n",
    "test_interval = 5\n",
    "\n",
    "# Iterate over the DataLoader for training data\n",
    "for epoch in tqdm(range(num_epochs), total=num_epochs, desc=\"Training ...\", position=1):\n",
    "    train_loss = train(train_loader, model, criterion, optimizer) # Train the Network for one epoch\n",
    "    # TO DO: uncomment the line below. It should be called each epoch to apply the lr_scheduler\n",
    "    scheduler.step()\n",
    "    train_losses.append(train_loss)\n",
    "    print(f'Loss for Training on epoch {str(epoch)} is {str(train_loss)} \\n')\n",
    "\n",
    "    if(epoch%test_interval==0 or epoch==1 or epoch==num_epochs-1):\n",
    "        print('Evaluating Network')\n",
    "\n",
    "        train_accuracy, _, _, _, _ = test(train_loader, model, criterion)\n",
    "        train_accuracy_list.append(train_accuracy)\n",
    "\n",
    "        print(f'Training accuracy on epoch {str(epoch)} is {str(train_accuracy)} \\n')\n",
    "\n",
    "        test_accuracy, test_loss, test_precision, test_recall, test_f1 = test(test_loader, model, criterion)\n",
    "        test_losses.append(test_loss)\n",
    "        test_accuracy_list.append(test_accuracy)\n",
    "        test_precision_list.append(test_precision)\n",
    "        test_recall_list.append(test_recall)\n",
    "        test_f1_list.append(test_f1)\n",
    "\n",
    "        print(f'Testing accuracy on epoch {str(epoch)} is {str(test_accuracy)} \\n')"
   ]
  },
  {
   "cell_type": "code",
   "execution_count": 20,
   "id": "24bbd3c0",
   "metadata": {
    "pycharm": {
     "is_executing": true
    }
   },
   "outputs": [
    {
     "data": {
      "image/png": "[encoded data removed]",
      "text/plain": [
       "<Figure size 640x480 with 1 Axes>"
      ]
     },
     "metadata": {},
     "output_type": "display_data"
    },
    {
     "data": {
      "image/png": "[encoded data removed]",
      "text/plain": [
       "<Figure size 640x480 with 1 Axes>"
      ]
     },
     "metadata": {},
     "output_type": "display_data"
    }
   ],
   "source": [
    "def plot_losses(train, val, test_frequency, num_epochs):\n",
    "    plt.plot(train, label=\"train\")\n",
    "    indices = [i for i in range(num_epochs) if ((i+1)%test_frequency == 0 or i ==0 or i == 1)]\n",
    "    plt.plot(indices, val, label=\"val\")\n",
    "    plt.title(\"Loss Plot\")\n",
    "    plt.ylabel(\"Loss\")\n",
    "    plt.xlabel(\"Epoch\")\n",
    "    plt.legend()\n",
    "    plt.show()\n",
    "    \n",
    "def plot_accuracy(train, val, test_frequency, num_epochs):\n",
    "    indices = [i for i in range(num_epochs) if ((i+1)%test_frequency == 0 or i ==0 or i == 1)]\n",
    "    plt.plot(indices, train, label=\"train\")\n",
    "    plt.plot(indices, val, label=\"val\")\n",
    "    plt.title(\"Training Plot\")\n",
    "    plt.ylabel(\"Accuracy\")\n",
    "    plt.xlabel(\"Epoch\")\n",
    "    plt.legend()\n",
    "    plt.show()\n",
    "plot_losses(train_losses, test_losses, test_interval, num_epochs)\n",
    "plot_accuracy(train_accuracy_list, test_accuracy_list, test_interval, num_epochs)"
   ]
  },
  {
   "cell_type": "code",
   "execution_count": 21,
   "id": "bc076797",
   "metadata": {
    "pycharm": {
     "is_executing": true
    }
   },
   "outputs": [],
   "source": [
    "import random\n",
    "def eval_example(model, dirs):\n",
    "    model.eval()\n",
    "    image_path = random.choice(dirs)+'0.jpg'\n",
    "    image = Image.open(image_path).convert('RGB')\n",
    "    plt.imshow(image)\n",
    "    plt.show()\n",
    "    image = image.resize((224, 224))\n",
    "    image = train_transforms(image).unsqueeze(0).to(device)\n",
    "    output = model(image)\n",
    "    pred = torch.sigmoid(output).item()\n",
    "    print(output.item())\n",
    "    if pred>0.5:\n",
    "        print('Prediction: FAKE')\n",
    "    else:\n",
    "        print('Prediction: REAL')"
   ]
  },
  {
   "cell_type": "code",
   "execution_count": 22,
   "id": "27d1bb61",
   "metadata": {
    "pycharm": {
     "is_executing": true
    }
   },
   "outputs": [
    {
     "ename": "FileNotFoundError",
     "evalue": "[Errno 2] No such file or directory: './output/deepfake-detection-challenge/dfdc_train_part_0/qrkjzekzkc.mp4/0.jpg'",
     "output_type": "error",
     "traceback": [
      "\u001b[1;31m---------------------------------------------------------------------------\u001b[0m",
      "\u001b[1;31mFileNotFoundError\u001b[0m                         Traceback (most recent call last)",
      "Cell \u001b[1;32mIn[22], line 1\u001b[0m\n\u001b[1;32m----> 1\u001b[0m f \u001b[38;5;241m=\u001b[39m \u001b[43meval_example\u001b[49m\u001b[43m(\u001b[49m\u001b[43mmodel\u001b[49m\u001b[43m,\u001b[49m\u001b[43m \u001b[49m\u001b[43mfake_dirs_t\u001b[49m\u001b[43m)\u001b[49m\n",
      "Cell \u001b[1;32mIn[21], line 5\u001b[0m, in \u001b[0;36meval_example\u001b[1;34m(model, dirs)\u001b[0m\n\u001b[0;32m      3\u001b[0m model\u001b[38;5;241m.\u001b[39meval()\n\u001b[0;32m      4\u001b[0m image_path \u001b[38;5;241m=\u001b[39m random\u001b[38;5;241m.\u001b[39mchoice(dirs)\u001b[38;5;241m+\u001b[39m\u001b[38;5;124m'\u001b[39m\u001b[38;5;124m0.jpg\u001b[39m\u001b[38;5;124m'\u001b[39m\n\u001b[1;32m----> 5\u001b[0m image \u001b[38;5;241m=\u001b[39m \u001b[43mImage\u001b[49m\u001b[38;5;241;43m.\u001b[39;49m\u001b[43mopen\u001b[49m\u001b[43m(\u001b[49m\u001b[43mimage_path\u001b[49m\u001b[43m)\u001b[49m\u001b[38;5;241m.\u001b[39mconvert(\u001b[38;5;124m'\u001b[39m\u001b[38;5;124mRGB\u001b[39m\u001b[38;5;124m'\u001b[39m)\n\u001b[0;32m      6\u001b[0m plt\u001b[38;5;241m.\u001b[39mimshow(image)\n\u001b[0;32m      7\u001b[0m plt\u001b[38;5;241m.\u001b[39mshow()\n",
      "File \u001b[1;32m~\\.conda\\envs\\TEMP\\lib\\site-packages\\PIL\\Image.py:3227\u001b[0m, in \u001b[0;36mopen\u001b[1;34m(fp, mode, formats)\u001b[0m\n\u001b[0;32m   3224\u001b[0m     filename \u001b[38;5;241m=\u001b[39m fp\n\u001b[0;32m   3226\u001b[0m \u001b[38;5;28;01mif\u001b[39;00m filename:\n\u001b[1;32m-> 3227\u001b[0m     fp \u001b[38;5;241m=\u001b[39m \u001b[43mbuiltins\u001b[49m\u001b[38;5;241;43m.\u001b[39;49m\u001b[43mopen\u001b[49m\u001b[43m(\u001b[49m\u001b[43mfilename\u001b[49m\u001b[43m,\u001b[49m\u001b[43m \u001b[49m\u001b[38;5;124;43m\"\u001b[39;49m\u001b[38;5;124;43mrb\u001b[39;49m\u001b[38;5;124;43m\"\u001b[39;49m\u001b[43m)\u001b[49m\n\u001b[0;32m   3228\u001b[0m     exclusive_fp \u001b[38;5;241m=\u001b[39m \u001b[38;5;28;01mTrue\u001b[39;00m\n\u001b[0;32m   3230\u001b[0m \u001b[38;5;28;01mtry\u001b[39;00m:\n",
      "\u001b[1;31mFileNotFoundError\u001b[0m: [Errno 2] No such file or directory: './output/deepfake-detection-challenge/dfdc_train_part_0/qrkjzekzkc.mp4/0.jpg'"
     ]
    }
   ],
   "source": [
    "f = eval_example(model, fake_dirs_t)"
   ]
  },
  {
   "cell_type": "code",
   "execution_count": null,
   "id": "3892db7f",
   "metadata": {
    "pycharm": {
     "is_executing": true
    }
   },
   "outputs": [],
   "source": [
    "r = eval_example(model, real_dirs_t)"
   ]
  },
  {
   "cell_type": "code",
   "execution_count": null,
   "id": "4c4ff4ae",
   "metadata": {},
   "outputs": [],
   "source": []
  }
 ],
 "metadata": {
  "kernelspec": {
   "display_name": "Python 3 (ipykernel)",
   "language": "python",
   "name": "python3"
  },
  "language_info": {
   "codemirror_mode": {
    "name": "ipython",
    "version": 3
   },
   "file_extension": ".py",
   "mimetype": "text/x-python",
   "name": "python",
   "nbconvert_exporter": "python",
   "pygments_lexer": "ipython3",
   "version": "3.10.11"
  }
 },
 "nbformat": 4,
 "nbformat_minor": 5
}
